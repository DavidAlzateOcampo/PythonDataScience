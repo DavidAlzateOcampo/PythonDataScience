{
  "nbformat": 4,
  "nbformat_minor": 0,
  "metadata": {
    "colab": {
      "name": "RandomForest.ipynb",
      "version": "0.3.2",
      "provenance": [],
      "include_colab_link": true
    },
    "kernelspec": {
      "name": "python3",
      "display_name": "Python 3"
    }
  },
  "cells": [
    {
      "cell_type": "markdown",
      "metadata": {
        "id": "view-in-github",
        "colab_type": "text"
      },
      "source": [
        "<a href=\"https://colab.research.google.com/github/DavidAlzateOcampo/PythonDataScience/blob/master/RandomForest.ipynb\" target=\"_parent\"><img src=\"https://colab.research.google.com/assets/colab-badge.svg\" alt=\"Open In Colab\"/></a>"
      ]
    },
    {
      "cell_type": "code",
      "metadata": {
        "id": "NrCX4t1_KdQ_",
        "colab_type": "code",
        "colab": {}
      },
      "source": [
        ""
      ],
      "execution_count": 0,
      "outputs": []
    },
    {
      "cell_type": "markdown",
      "metadata": {
        "id": "F27MQSw4MTjh",
        "colab_type": "text"
      },
      "source": [
        "# Random Forest with Scikit Learn\n",
        "\n",
        "The current notebook has a purpose to give a brief explanation for random forest solution and how to use it with scikit learn library"
      ]
    },
    {
      "cell_type": "code",
      "metadata": {
        "id": "Ejd_vjPuMuBN",
        "colab_type": "code",
        "colab": {}
      },
      "source": [
        "# Load the libraries needed \n",
        "from sklearn.datasets import load_iris\n",
        "from sklearn.ensemble import RandomForestClassifier\n",
        "import pandas as pd\n",
        "import numpy as np\n",
        "\n",
        "# Set random seed\n",
        "np.random.seed(0)"
      ],
      "execution_count": 0,
      "outputs": []
    },
    {
      "cell_type": "markdown",
      "metadata": {
        "id": "_0KV2QBmNGwI",
        "colab_type": "text"
      },
      "source": [
        "After loading the libraries used in this notebook. It will be assigned the data sets to local variables. \n"
      ]
    },
    {
      "cell_type": "code",
      "metadata": {
        "id": "sVVcHNDGNPKs",
        "colab_type": "code",
        "colab": {
          "base_uri": "https://localhost:8080/",
          "height": 34
        },
        "outputId": "561e7093-b736-4cc2-8c74-e9feed69aa03"
      },
      "source": [
        "iris = load_iris()\n",
        "df = pd.DataFrame(iris.data, columns=iris.feature_names)\n",
        "print('The shape of iris dataset is :', df.shape)\n"
      ],
      "execution_count": 2,
      "outputs": [
        {
          "output_type": "stream",
          "text": [
            "The shape of iris dataset is : (150, 4)\n"
          ],
          "name": "stdout"
        }
      ]
    }
  ]
}